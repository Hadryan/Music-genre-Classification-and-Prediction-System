{
 "cells": [
  {
   "cell_type": "code",
   "execution_count": 489,
   "metadata": {
    "scrolled": true
   },
   "outputs": [],
   "source": [
    "import numpy as np\n",
    "import matplotlib.pyplot as plt\n",
    "import pandas as pd\n",
    "from sklearn.preprocessing import LabelEncoder\n",
    "from sklearn.metrics import accuracy_score\n",
    "from sklearn.cross_validation import train_test_split\n",
    "from sklearn.preprocessing import StandardScaler\n",
    "from sklearn.metrics import confusion_matrix\n",
    "from sklearn.model_selection import cross_val_score\n",
    "from sklearn.model_selection import GridSearchCV\n",
    "from sklearn import preprocessing\n",
    "from sklearn.metrics import roc_auc_score\n",
    "from sklearn.svm import SVC\n",
    "import itertools\n"
   ]
  },
  {
   "cell_type": "code",
   "execution_count": 490,
   "metadata": {},
   "outputs": [],
   "source": [
    "genres = 'blues classical country disco hiphop jazz metal pop reggae rock'.split()"
   ]
  },
  {
   "cell_type": "code",
   "execution_count": 491,
   "metadata": {},
   "outputs": [
    {
     "data": {
      "text/html": [
       "<div>\n",
       "<style scoped>\n",
       "    .dataframe tbody tr th:only-of-type {\n",
       "        vertical-align: middle;\n",
       "    }\n",
       "\n",
       "    .dataframe tbody tr th {\n",
       "        vertical-align: top;\n",
       "    }\n",
       "\n",
       "    .dataframe thead th {\n",
       "        text-align: right;\n",
       "    }\n",
       "</style>\n",
       "<table border=\"1\" class=\"dataframe\">\n",
       "  <thead>\n",
       "    <tr style=\"text-align: right;\">\n",
       "      <th></th>\n",
       "      <th>filename</th>\n",
       "      <th>chroma_stft</th>\n",
       "      <th>rmse</th>\n",
       "      <th>spectral_centroid</th>\n",
       "      <th>spectral_bandwidth</th>\n",
       "      <th>rolloff</th>\n",
       "      <th>zero_crossing_rate</th>\n",
       "      <th>mfcc1</th>\n",
       "      <th>mfcc2</th>\n",
       "      <th>mfcc3</th>\n",
       "      <th>...</th>\n",
       "      <th>mfcc12</th>\n",
       "      <th>mfcc13</th>\n",
       "      <th>mfcc14</th>\n",
       "      <th>mfcc15</th>\n",
       "      <th>mfcc16</th>\n",
       "      <th>mfcc17</th>\n",
       "      <th>mfcc18</th>\n",
       "      <th>mfcc19</th>\n",
       "      <th>mfcc20</th>\n",
       "      <th>label</th>\n",
       "    </tr>\n",
       "  </thead>\n",
       "  <tbody>\n",
       "    <tr>\n",
       "      <th>0</th>\n",
       "      <td>blues.00000.wav</td>\n",
       "      <td>0.349943</td>\n",
       "      <td>0.130225</td>\n",
       "      <td>1784.420446</td>\n",
       "      <td>2002.650192</td>\n",
       "      <td>3806.485316</td>\n",
       "      <td>0.083066</td>\n",
       "      <td>-113.596742</td>\n",
       "      <td>121.557302</td>\n",
       "      <td>-19.158825</td>\n",
       "      <td>...</td>\n",
       "      <td>8.810668</td>\n",
       "      <td>-3.667367</td>\n",
       "      <td>5.751690</td>\n",
       "      <td>-5.162761</td>\n",
       "      <td>0.750947</td>\n",
       "      <td>-1.691937</td>\n",
       "      <td>-0.409954</td>\n",
       "      <td>-2.300208</td>\n",
       "      <td>1.219928</td>\n",
       "      <td>blues</td>\n",
       "    </tr>\n",
       "    <tr>\n",
       "      <th>1</th>\n",
       "      <td>blues.00001.wav</td>\n",
       "      <td>0.340983</td>\n",
       "      <td>0.095918</td>\n",
       "      <td>1529.835316</td>\n",
       "      <td>2038.617579</td>\n",
       "      <td>3548.820207</td>\n",
       "      <td>0.056044</td>\n",
       "      <td>-207.556796</td>\n",
       "      <td>124.006717</td>\n",
       "      <td>8.930562</td>\n",
       "      <td>...</td>\n",
       "      <td>5.376802</td>\n",
       "      <td>-2.239119</td>\n",
       "      <td>4.216963</td>\n",
       "      <td>-6.012273</td>\n",
       "      <td>0.936109</td>\n",
       "      <td>-0.716537</td>\n",
       "      <td>0.293875</td>\n",
       "      <td>-0.287431</td>\n",
       "      <td>0.531573</td>\n",
       "      <td>blues</td>\n",
       "    </tr>\n",
       "    <tr>\n",
       "      <th>2</th>\n",
       "      <td>blues.00002.wav</td>\n",
       "      <td>0.363603</td>\n",
       "      <td>0.175573</td>\n",
       "      <td>1552.481958</td>\n",
       "      <td>1747.165985</td>\n",
       "      <td>3040.514948</td>\n",
       "      <td>0.076301</td>\n",
       "      <td>-90.754394</td>\n",
       "      <td>140.459907</td>\n",
       "      <td>-29.109965</td>\n",
       "      <td>...</td>\n",
       "      <td>5.789265</td>\n",
       "      <td>-8.905224</td>\n",
       "      <td>-1.083720</td>\n",
       "      <td>-9.218359</td>\n",
       "      <td>2.455805</td>\n",
       "      <td>-7.726901</td>\n",
       "      <td>-1.815724</td>\n",
       "      <td>-3.433434</td>\n",
       "      <td>-2.226821</td>\n",
       "      <td>blues</td>\n",
       "    </tr>\n",
       "    <tr>\n",
       "      <th>3</th>\n",
       "      <td>blues.00003.wav</td>\n",
       "      <td>0.404779</td>\n",
       "      <td>0.141191</td>\n",
       "      <td>1070.119953</td>\n",
       "      <td>1596.333948</td>\n",
       "      <td>2185.028454</td>\n",
       "      <td>0.033309</td>\n",
       "      <td>-199.431144</td>\n",
       "      <td>150.099218</td>\n",
       "      <td>5.647594</td>\n",
       "      <td>...</td>\n",
       "      <td>6.087676</td>\n",
       "      <td>-2.476420</td>\n",
       "      <td>-1.073890</td>\n",
       "      <td>-2.874777</td>\n",
       "      <td>0.780976</td>\n",
       "      <td>-3.316932</td>\n",
       "      <td>0.637981</td>\n",
       "      <td>-0.619690</td>\n",
       "      <td>-3.408233</td>\n",
       "      <td>blues</td>\n",
       "    </tr>\n",
       "    <tr>\n",
       "      <th>4</th>\n",
       "      <td>blues.00004.wav</td>\n",
       "      <td>0.308590</td>\n",
       "      <td>0.091563</td>\n",
       "      <td>1835.494603</td>\n",
       "      <td>1748.362448</td>\n",
       "      <td>3580.945013</td>\n",
       "      <td>0.101500</td>\n",
       "      <td>-160.266031</td>\n",
       "      <td>126.198800</td>\n",
       "      <td>-35.605448</td>\n",
       "      <td>...</td>\n",
       "      <td>-2.806385</td>\n",
       "      <td>-6.934122</td>\n",
       "      <td>-7.558619</td>\n",
       "      <td>-9.173552</td>\n",
       "      <td>-4.512166</td>\n",
       "      <td>-5.453538</td>\n",
       "      <td>-0.924162</td>\n",
       "      <td>-4.409333</td>\n",
       "      <td>-11.703781</td>\n",
       "      <td>blues</td>\n",
       "    </tr>\n",
       "    <tr>\n",
       "      <th>5</th>\n",
       "      <td>blues.00005.wav</td>\n",
       "      <td>0.302346</td>\n",
       "      <td>0.103468</td>\n",
       "      <td>1831.942368</td>\n",
       "      <td>1729.483241</td>\n",
       "      <td>3480.937285</td>\n",
       "      <td>0.094040</td>\n",
       "      <td>-177.869048</td>\n",
       "      <td>118.196916</td>\n",
       "      <td>-17.550673</td>\n",
       "      <td>...</td>\n",
       "      <td>-2.420615</td>\n",
       "      <td>-9.339365</td>\n",
       "      <td>-9.939325</td>\n",
       "      <td>-3.909892</td>\n",
       "      <td>-5.570625</td>\n",
       "      <td>-1.839023</td>\n",
       "      <td>-2.778421</td>\n",
       "      <td>-3.046866</td>\n",
       "      <td>-8.115809</td>\n",
       "      <td>blues</td>\n",
       "    </tr>\n",
       "    <tr>\n",
       "      <th>6</th>\n",
       "      <td>blues.00006.wav</td>\n",
       "      <td>0.291308</td>\n",
       "      <td>0.141796</td>\n",
       "      <td>1459.078483</td>\n",
       "      <td>1388.913312</td>\n",
       "      <td>2795.616429</td>\n",
       "      <td>0.073028</td>\n",
       "      <td>-190.149470</td>\n",
       "      <td>130.296951</td>\n",
       "      <td>-36.344138</td>\n",
       "      <td>...</td>\n",
       "      <td>-3.125678</td>\n",
       "      <td>-6.593118</td>\n",
       "      <td>-9.942268</td>\n",
       "      <td>-6.537224</td>\n",
       "      <td>-10.064755</td>\n",
       "      <td>-10.912171</td>\n",
       "      <td>-6.972479</td>\n",
       "      <td>-3.449033</td>\n",
       "      <td>-6.495511</td>\n",
       "      <td>blues</td>\n",
       "    </tr>\n",
       "    <tr>\n",
       "      <th>7</th>\n",
       "      <td>blues.00007.wav</td>\n",
       "      <td>0.307921</td>\n",
       "      <td>0.131785</td>\n",
       "      <td>1451.754147</td>\n",
       "      <td>1577.369917</td>\n",
       "      <td>2955.348796</td>\n",
       "      <td>0.061435</td>\n",
       "      <td>-179.395447</td>\n",
       "      <td>136.459244</td>\n",
       "      <td>-26.656359</td>\n",
       "      <td>...</td>\n",
       "      <td>-6.954827</td>\n",
       "      <td>-3.544535</td>\n",
       "      <td>-8.051242</td>\n",
       "      <td>-8.959537</td>\n",
       "      <td>-8.424337</td>\n",
       "      <td>-10.558885</td>\n",
       "      <td>-10.788159</td>\n",
       "      <td>-4.693749</td>\n",
       "      <td>-8.638613</td>\n",
       "      <td>blues</td>\n",
       "    </tr>\n",
       "    <tr>\n",
       "      <th>8</th>\n",
       "      <td>blues.00008.wav</td>\n",
       "      <td>0.409037</td>\n",
       "      <td>0.142438</td>\n",
       "      <td>1719.213163</td>\n",
       "      <td>2031.643884</td>\n",
       "      <td>3781.318802</td>\n",
       "      <td>0.064028</td>\n",
       "      <td>-121.361024</td>\n",
       "      <td>122.513116</td>\n",
       "      <td>-14.742130</td>\n",
       "      <td>...</td>\n",
       "      <td>7.010945</td>\n",
       "      <td>-12.741833</td>\n",
       "      <td>5.066005</td>\n",
       "      <td>-5.175478</td>\n",
       "      <td>-1.444025</td>\n",
       "      <td>-7.037070</td>\n",
       "      <td>2.697451</td>\n",
       "      <td>3.409809</td>\n",
       "      <td>-2.698353</td>\n",
       "      <td>blues</td>\n",
       "    </tr>\n",
       "    <tr>\n",
       "      <th>9</th>\n",
       "      <td>blues.00009.wav</td>\n",
       "      <td>0.274009</td>\n",
       "      <td>0.081352</td>\n",
       "      <td>1817.516386</td>\n",
       "      <td>1973.739070</td>\n",
       "      <td>3944.451148</td>\n",
       "      <td>0.079215</td>\n",
       "      <td>-213.180803</td>\n",
       "      <td>115.152794</td>\n",
       "      <td>-11.716264</td>\n",
       "      <td>...</td>\n",
       "      <td>3.784770</td>\n",
       "      <td>0.225669</td>\n",
       "      <td>-5.113638</td>\n",
       "      <td>-0.413063</td>\n",
       "      <td>-1.184538</td>\n",
       "      <td>-1.920714</td>\n",
       "      <td>-2.293728</td>\n",
       "      <td>2.891266</td>\n",
       "      <td>-4.233204</td>\n",
       "      <td>blues</td>\n",
       "    </tr>\n",
       "  </tbody>\n",
       "</table>\n",
       "<p>10 rows × 28 columns</p>\n",
       "</div>"
      ],
      "text/plain": [
       "          filename  chroma_stft      rmse  spectral_centroid  \\\n",
       "0  blues.00000.wav     0.349943  0.130225        1784.420446   \n",
       "1  blues.00001.wav     0.340983  0.095918        1529.835316   \n",
       "2  blues.00002.wav     0.363603  0.175573        1552.481958   \n",
       "3  blues.00003.wav     0.404779  0.141191        1070.119953   \n",
       "4  blues.00004.wav     0.308590  0.091563        1835.494603   \n",
       "5  blues.00005.wav     0.302346  0.103468        1831.942368   \n",
       "6  blues.00006.wav     0.291308  0.141796        1459.078483   \n",
       "7  blues.00007.wav     0.307921  0.131785        1451.754147   \n",
       "8  blues.00008.wav     0.409037  0.142438        1719.213163   \n",
       "9  blues.00009.wav     0.274009  0.081352        1817.516386   \n",
       "\n",
       "   spectral_bandwidth      rolloff  zero_crossing_rate       mfcc1  \\\n",
       "0         2002.650192  3806.485316            0.083066 -113.596742   \n",
       "1         2038.617579  3548.820207            0.056044 -207.556796   \n",
       "2         1747.165985  3040.514948            0.076301  -90.754394   \n",
       "3         1596.333948  2185.028454            0.033309 -199.431144   \n",
       "4         1748.362448  3580.945013            0.101500 -160.266031   \n",
       "5         1729.483241  3480.937285            0.094040 -177.869048   \n",
       "6         1388.913312  2795.616429            0.073028 -190.149470   \n",
       "7         1577.369917  2955.348796            0.061435 -179.395447   \n",
       "8         2031.643884  3781.318802            0.064028 -121.361024   \n",
       "9         1973.739070  3944.451148            0.079215 -213.180803   \n",
       "\n",
       "        mfcc2      mfcc3  ...      mfcc12     mfcc13    mfcc14    mfcc15  \\\n",
       "0  121.557302 -19.158825  ...    8.810668  -3.667367  5.751690 -5.162761   \n",
       "1  124.006717   8.930562  ...    5.376802  -2.239119  4.216963 -6.012273   \n",
       "2  140.459907 -29.109965  ...    5.789265  -8.905224 -1.083720 -9.218359   \n",
       "3  150.099218   5.647594  ...    6.087676  -2.476420 -1.073890 -2.874777   \n",
       "4  126.198800 -35.605448  ...   -2.806385  -6.934122 -7.558619 -9.173552   \n",
       "5  118.196916 -17.550673  ...   -2.420615  -9.339365 -9.939325 -3.909892   \n",
       "6  130.296951 -36.344138  ...   -3.125678  -6.593118 -9.942268 -6.537224   \n",
       "7  136.459244 -26.656359  ...   -6.954827  -3.544535 -8.051242 -8.959537   \n",
       "8  122.513116 -14.742130  ...    7.010945 -12.741833  5.066005 -5.175478   \n",
       "9  115.152794 -11.716264  ...    3.784770   0.225669 -5.113638 -0.413063   \n",
       "\n",
       "      mfcc16     mfcc17     mfcc18    mfcc19     mfcc20  label  \n",
       "0   0.750947  -1.691937  -0.409954 -2.300208   1.219928  blues  \n",
       "1   0.936109  -0.716537   0.293875 -0.287431   0.531573  blues  \n",
       "2   2.455805  -7.726901  -1.815724 -3.433434  -2.226821  blues  \n",
       "3   0.780976  -3.316932   0.637981 -0.619690  -3.408233  blues  \n",
       "4  -4.512166  -5.453538  -0.924162 -4.409333 -11.703781  blues  \n",
       "5  -5.570625  -1.839023  -2.778421 -3.046866  -8.115809  blues  \n",
       "6 -10.064755 -10.912171  -6.972479 -3.449033  -6.495511  blues  \n",
       "7  -8.424337 -10.558885 -10.788159 -4.693749  -8.638613  blues  \n",
       "8  -1.444025  -7.037070   2.697451  3.409809  -2.698353  blues  \n",
       "9  -1.184538  -1.920714  -2.293728  2.891266  -4.233204  blues  \n",
       "\n",
       "[10 rows x 28 columns]"
      ]
     },
     "execution_count": 491,
     "metadata": {},
     "output_type": "execute_result"
    }
   ],
   "source": [
    "# Importing the dataset\n",
    "dataset = pd.read_csv('F:/data1.csv')\n",
    "\n",
    "X = dataset.iloc[:, 1:27].values\n",
    "Y = dataset.iloc[:,[-1]].values\n",
    "\n",
    "dataset.head(10)"
   ]
  },
  {
   "cell_type": "code",
   "execution_count": 492,
   "metadata": {},
   "outputs": [
    {
     "name": "stderr",
     "output_type": "stream",
     "text": [
      "C:\\temp\\lib\\site-packages\\sklearn\\preprocessing\\label.py:111: DataConversionWarning: A column-vector y was passed when a 1d array was expected. Please change the shape of y to (n_samples, ), for example using ravel().\n",
      "  y = column_or_1d(y, warn=True)\n"
     ]
    }
   ],
   "source": [
    "# Label Encode the output values\n",
    "le = LabelEncoder()\n",
    "Y=le.fit_transform(Y)\n",
    "#Y"
   ]
  },
  {
   "cell_type": "code",
   "execution_count": 493,
   "metadata": {},
   "outputs": [],
   "source": [
    "# Splitting the dataset into the Training set and Test set\n",
    "X_train, X_test, y_train, y_test = train_test_split(X, Y, test_size = 0.3)"
   ]
  },
  {
   "cell_type": "code",
   "execution_count": 494,
   "metadata": {},
   "outputs": [],
   "source": [
    "# Feature Scaling\n",
    "sc = StandardScaler()\n",
    "X_train = sc.fit_transform(X_train)\n",
    "X_test = sc.transform(X_test)"
   ]
  },
  {
   "cell_type": "code",
   "execution_count": 495,
   "metadata": {},
   "outputs": [
    {
     "data": {
      "text/plain": [
       "SVC(C=1.0, cache_size=200, class_weight=None, coef0=0.0,\n",
       "  decision_function_shape='ovr', degree=3, gamma='auto', kernel='rbf',\n",
       "  max_iter=-1, probability=False, random_state=42, shrinking=True,\n",
       "  tol=0.001, verbose=False)"
      ]
     },
     "execution_count": 495,
     "metadata": {},
     "output_type": "execute_result"
    }
   ],
   "source": [
    "svmclassifier = SVC(kernel = 'rbf', random_state = 42, gamma = 'auto')\n",
    "svmclassifier.fit(X_train, y_train)"
   ]
  },
  {
   "cell_type": "code",
   "execution_count": 496,
   "metadata": {},
   "outputs": [
    {
     "data": {
      "text/plain": [
       "0.68"
      ]
     },
     "execution_count": 496,
     "metadata": {},
     "output_type": "execute_result"
    }
   ],
   "source": [
    "# Accuracy Score of the algorithm\n",
    "\n",
    "y_pred = svmclassifier.predict(X_test)\n",
    "\n",
    "accuracy_score(y_pred, y_test)"
   ]
  },
  {
   "cell_type": "code",
   "execution_count": 497,
   "metadata": {},
   "outputs": [
    {
     "data": {
      "text/plain": [
       "(300,)"
      ]
     },
     "execution_count": 497,
     "metadata": {},
     "output_type": "execute_result"
    }
   ],
   "source": [
    "y_pred.shape\n",
    "# for item_a, item_b in zip(y_test, y_pred):\n",
    "#     print(item_a, item_b)"
   ]
  },
  {
   "cell_type": "code",
   "execution_count": 498,
   "metadata": {},
   "outputs": [],
   "source": [
    "from sklearn.model_selection import validation_curve\n",
    "from sklearn.linear_model import Ridge\n",
    "\n"
   ]
  },
  {
   "cell_type": "code",
   "execution_count": 499,
   "metadata": {},
   "outputs": [],
   "source": [
    "# Confusion Mtarix Plot\n",
    "def plot_confusion_matrix(cm, classes,\n",
    "                          normalize=False,\n",
    "                          title='Confusion matrix',\n",
    "                          cmap=plt.cm.Blues):\n",
    "    if normalize:\n",
    "        cm = cm.astype('float') / cm.sum(axis=1)[:, np.newaxis]\n",
    "        print(\"Normalized confusion matrix\")\n",
    "    else:\n",
    "        print('Confusion matrix, without normalization')\n",
    "\n",
    "#     print(cm)\n",
    "\n",
    "    plt.imshow(cm, interpolation='nearest', cmap=cmap)\n",
    "    plt.title(title)\n",
    "    plt.colorbar()\n",
    "    tick_marks = np.arange(len(classes))\n",
    "    plt.xticks(tick_marks, classes, rotation=45)\n",
    "    plt.yticks(tick_marks, classes)\n",
    "\n",
    "    fmt = '.2f' if normalize else 'd'\n",
    "    thresh = cm.max() / 2.\n",
    "    for i, j in itertools.product(range(cm.shape[0]), range(cm.shape[1])):\n",
    "        plt.text(j, i, format(cm[i, j], fmt),\n",
    "                 horizontalalignment=\"center\",\n",
    "                 color=\"white\" if cm[i, j] > thresh else \"black\")\n",
    "\n",
    "    plt.ylabel('True label')\n",
    "    plt.xlabel('Predicted label')\n",
    "    plt.tight_layout()"
   ]
  },
  {
   "cell_type": "code",
   "execution_count": 500,
   "metadata": {},
   "outputs": [
    {
     "data": {
      "text/plain": [
       "array([[24,  0,  1,  1,  0,  2,  2,  0,  0,  0],\n",
       "       [ 0, 26,  0,  0,  0,  1,  0,  0,  0,  0],\n",
       "       [ 3,  0, 18,  2,  0,  4,  0,  2,  0,  3],\n",
       "       [ 1,  0,  1, 12,  4,  0,  0,  4,  3,  9],\n",
       "       [ 0,  0,  0,  5, 14,  0,  0,  1,  4,  2],\n",
       "       [ 0,  0,  1,  1,  2, 18,  0,  0,  1,  2],\n",
       "       [ 2,  0,  0,  2,  0,  0, 37,  0,  1,  2],\n",
       "       [ 2,  0,  1,  2,  0,  0,  0, 25,  2,  0],\n",
       "       [ 0,  0,  0,  0,  4,  1,  0,  1, 18,  3],\n",
       "       [ 2,  0,  1,  2,  1,  2,  0,  0,  3, 12]], dtype=int64)"
      ]
     },
     "execution_count": 500,
     "metadata": {},
     "output_type": "execute_result"
    }
   ],
   "source": [
    "# Calculate COnfusion Matrix\n",
    "cnf_matrix = confusion_matrix(y_test, y_pred)\n",
    "np.set_printoptions(precision=2)\n",
    "cnf_matrix"
   ]
  },
  {
   "cell_type": "code",
   "execution_count": 501,
   "metadata": {},
   "outputs": [
    {
     "name": "stdout",
     "output_type": "stream",
     "text": [
      "Confusion matrix, without normalization\n",
      "Normalized confusion matrix\n"
     ]
    },
    {
     "data": {
      "image/png": "[encoded data removed]",
      "text/plain": [
       "<Figure size 1080x1080 with 4 Axes>"
      ]
     },
     "metadata": {},
     "output_type": "display_data"
    }
   ],
   "source": [
    "# Plot CM without normalisation\n",
    "plt.figure(figsize=(15,15))\n",
    "plt.subplot(1,2,1)\n",
    "plot_confusion_matrix(cnf_matrix, classes=genres,\n",
    "                      title='Confusion matrix, without normalization')\n",
    "\n",
    "plt.subplot(1,2,2)\n",
    "plot_confusion_matrix(cnf_matrix, classes=genres, normalize=True,\n",
    "                      title='Normalized confusion matrix')\n",
    "\n",
    "\n",
    "plt.tight_layout()\n",
    "plt.show()"
   ]
  },
  {
   "cell_type": "code",
   "execution_count": 502,
   "metadata": {},
   "outputs": [
    {
     "name": "stdout",
     "output_type": "stream",
     "text": [
      "[0.641221054063738, 0.03919482656799274]\n"
     ]
    }
   ],
   "source": [
    "from sklearn.model_selection import cross_val_score\n",
    "accuracies = cross_val_score(estimator = classifier, X = X_train, y = y_train, cv = 10)\n",
    "print([accuracies.mean(), accuracies.std()])\n"
   ]
  },
  {
   "cell_type": "code",
   "execution_count": 503,
   "metadata": {},
   "outputs": [
    {
     "name": "stdout",
     "output_type": "stream",
     "text": [
      "True\n",
      "True\n",
      "True\n",
      "True\n",
      "True\n",
      "True\n",
      "True\n",
      "True\n",
      "True\n",
      "True\n"
     ]
    }
   ],
   "source": [
    "TP = np.diag(cnf_matrix)\n",
    "\n",
    "FP = []\n",
    "for i in range(10):\n",
    "    FP.append(sum(cnf_matrix[:,i]) - cnf_matrix[i,i])\n",
    "\n",
    "FN = []\n",
    "for i in range(10):\n",
    "    FN.append(sum(cnf_matrix[i,:]) - cnf_matrix[i,i])\n",
    "\n",
    "TN = []\n",
    "for i in range(10):\n",
    "    temp = np.delete(cnf_matrix, i, 0)   # delete ith row\n",
    "    temp = np.delete(temp, i, 1)  # delete ith column\n",
    "    TN.append(sum(sum(temp)))\n",
    "    \n",
    "l = len(y_test)\n",
    "for i in range(10):\n",
    "    print((TP[i] + FP[i] + FN[i] + TN[i]) == l)"
   ]
  },
  {
   "cell_type": "code",
   "execution_count": 504,
   "metadata": {},
   "outputs": [
    {
     "name": "stdout",
     "output_type": "stream",
     "text": [
      "\tTP   FP   FN   TN\n"
     ]
    },
    {
     "data": {
      "text/plain": [
       "array([[ 24,  10,   6, 260],\n",
       "       [ 26,   0,   1, 273],\n",
       "       [ 18,   5,  14, 263],\n",
       "       [ 12,  15,  22, 251],\n",
       "       [ 14,  11,  12, 263],\n",
       "       [ 18,  10,   7, 265],\n",
       "       [ 37,   2,   7, 254],\n",
       "       [ 25,   8,   7, 260],\n",
       "       [ 18,  14,   9, 259],\n",
       "       [ 12,  21,  11, 256]], dtype=int64)"
      ]
     },
     "execution_count": 504,
     "metadata": {},
     "output_type": "execute_result"
    }
   ],
   "source": [
    "values = np.array([TP, FP, FN, TN])\n",
    "print('\\tTP', '  FP', '  FN', '  TN')\n",
    "values.T"
   ]
  },
  {
   "cell_type": "code",
   "execution_count": 505,
   "metadata": {},
   "outputs": [
    {
     "name": "stdout",
     "output_type": "stream",
     "text": [
      "             precision    recall  f1-score   support\n",
      "\n",
      "          0       0.71      0.80      0.75        30\n",
      "          1       1.00      0.96      0.98        27\n",
      "          2       0.78      0.56      0.65        32\n",
      "          3       0.44      0.35      0.39        34\n",
      "          4       0.56      0.54      0.55        26\n",
      "          5       0.64      0.72      0.68        25\n",
      "          6       0.95      0.84      0.89        44\n",
      "          7       0.76      0.78      0.77        32\n",
      "          8       0.56      0.67      0.61        27\n",
      "          9       0.36      0.52      0.43        23\n",
      "\n",
      "avg / total       0.69      0.68      0.68       300\n",
      "\n"
     ]
    }
   ],
   "source": [
    "from sklearn.metrics import classification_report\n",
    "print(classification_report(y_test, y_pred))\n",
    "\n"
   ]
  },
  {
   "cell_type": "code",
   "execution_count": 506,
   "metadata": {},
   "outputs": [],
   "source": [
    "from sklearn.metrics import precision_recall_fscore_support as result\n",
    "\n",
    "precision, recall ,fscore, support = result(y_test, y_pred)\n",
    "\n"
   ]
  },
  {
   "cell_type": "code",
   "execution_count": 507,
   "metadata": {},
   "outputs": [
    {
     "name": "stdout",
     "output_type": "stream",
     "text": [
      "precision \trecall \t   sensitivity \t  specificity \t      f1-score \t     support\n",
      "0.71 \t\t 0.8 \t\t 0.8 \t\t 0.96 \t\t 0.75 \t\t 30\n",
      "1.0 \t\t 0.96 \t\t 0.96 \t\t 1.0 \t\t 0.98 \t\t 27\n",
      "0.78 \t\t 0.56 \t\t 0.56 \t\t 0.98 \t\t 0.65 \t\t 32\n",
      "0.44 \t\t 0.35 \t\t 0.35 \t\t 0.94 \t\t 0.39 \t\t 34\n",
      "0.56 \t\t 0.54 \t\t 0.54 \t\t 0.96 \t\t 0.55 \t\t 26\n",
      "0.64 \t\t 0.72 \t\t 0.72 \t\t 0.96 \t\t 0.68 \t\t 25\n",
      "0.95 \t\t 0.84 \t\t 0.84 \t\t 0.99 \t\t 0.89 \t\t 44\n",
      "0.76 \t\t 0.78 \t\t 0.78 \t\t 0.97 \t\t 0.77 \t\t 32\n",
      "0.56 \t\t 0.67 \t\t 0.67 \t\t 0.95 \t\t 0.61 \t\t 27\n",
      "0.36 \t\t 0.52 \t\t 0.52 \t\t 0.92 \t\t 0.43 \t\t 23\n",
      "\n",
      "avg / total\n",
      "0.68 \t\t 0.67 \t\t 0.67 \t\t 0.96 \t\t 0.67 \t\t 30.0\n"
     ]
    }
   ],
   "source": [
    "sensitivity = TP/(TP + FN)\n",
    "specificity = np.array(TN)/(np.array(TN) + np.array(FP))\n",
    "print('precision','\\trecall','\\t   sensitivity','\\t  specificity','\\t      f1-score','\\t     support')\n",
    "for a,b,c,d,e,f in zip(precision,recall,sensitivity,specificity,fscore,support):\n",
    "    print(a.round(2),'\\t\\t',b.round(2),'\\t\\t',c.round(2),'\\t\\t',d.round(2),'\\t\\t',e.round(2),'\\t\\t',f.round(2))\n",
    "\n",
    "print('\\navg / total')\n",
    "print(np.mean(precision).round(2),'\\t\\t',np.mean(recall).round(2),'\\t\\t',np.mean(sensitivity).round(2),'\\t\\t', np.mean(specificity).round(2),'\\t\\t', np.mean(fscore).round(2),'\\t\\t', np.mean(support).round(2))    \n"
   ]
  },
  {
   "cell_type": "code",
   "execution_count": 508,
   "metadata": {},
   "outputs": [
    {
     "name": "stdout",
     "output_type": "stream",
     "text": [
      "0.8197039320661519\n"
     ]
    }
   ],
   "source": [
    "# from sklearn.metrics import roc_curve, auc\n",
    "\n",
    "lb = preprocessing.LabelBinarizer()\n",
    "lb.fit(y_test)\n",
    "y_test = lb.transform(y_test)\n",
    "y_pred = lb.transform(y_pred)\n",
    "print(roc_auc_score(y_test, y_pred, average=\"macro\"))"
   ]
  },
  {
   "cell_type": "code",
   "execution_count": 509,
   "metadata": {},
   "outputs": [],
   "source": [
    "y_plot = [y_test, y_pred]\n",
    "x_plot = np.arange(10)\n",
    "# for i, j in zip(np.argmax(y_plot[0],axis = 1),np.argmax(y_plot[1],axis = 1)):\n",
    "#     print(i,j)"
   ]
  },
  {
   "cell_type": "code",
   "execution_count": 510,
   "metadata": {},
   "outputs": [],
   "source": [
    "y_test_x, y_test_y = np.unique(np.argmax(y_plot[0],axis = 1), return_counts = True)\n",
    "y_pred_x, y_pred_y = np.unique(np.argmax(y_plot[1],axis = 1), return_counts = True)\n",
    "\n"
   ]
  },
  {
   "cell_type": "code",
   "execution_count": 511,
   "metadata": {},
   "outputs": [
    {
     "data": {
      "text/plain": [
       "<matplotlib.legend.Legend at 0x212975dbc88>"
      ]
     },
     "execution_count": 511,
     "metadata": {},
     "output_type": "execute_result"
    },
    {
     "data": {
      "image/png": "[encoded data removed]",
      "text/plain": [
       "<Figure size 864x864 with 1 Axes>"
      ]
     },
     "metadata": {},
     "output_type": "display_data"
    }
   ],
   "source": [
    "plt.figure(figsize=(12,12))\n",
    "plt.bar(x_plot +0.00 , y_test_y, color = 'y', width = 0.25)\n",
    "plt.bar(x_plot + 0.25 , y_pred_y, color = 'b', width = 0.25)\n",
    "plt.xlabel('\\nGenres',fontsize=20)\n",
    "plt.ylabel('FREQUENCY OF TEST AND PREDICTED OUTPUT',fontsize=20)\n",
    "classes = genres\n",
    "tick_marks = np.arange(len(classes))\n",
    "plt.xticks(tick_marks, classes, rotation=0,fontsize=13)\n",
    "#plt.yticks(tick_marks, classes)\n",
    "plt.title('TEST SET VS PREDICTED SET')\n",
    "plt.legend(('TEST COUNT', 'PREDICTED COUNT'))"
   ]
  },
  {
   "cell_type": "code",
   "execution_count": null,
   "metadata": {},
   "outputs": [],
   "source": []
  },
  {
   "cell_type": "code",
   "execution_count": null,
   "metadata": {},
   "outputs": [],
   "source": []
  }
 ],
 "metadata": {
  "kernelspec": {
   "display_name": "Python 3",
   "language": "python",
   "name": "python3"
  },
  "language_info": {
   "codemirror_mode": {
    "name": "ipython",
    "version": 3
   },
   "file_extension": ".py",
   "mimetype": "text/x-python",
   "name": "python",
   "nbconvert_exporter": "python",
   "pygments_lexer": "ipython3",
   "version": "3.6.5"
  }
 },
 "nbformat": 4,
 "nbformat_minor": 2
}
